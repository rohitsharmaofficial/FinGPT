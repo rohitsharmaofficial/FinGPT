{
  "cells": [
    {
      "cell_type": "markdown",
      "metadata": {
        "id": "view-in-github",
        "colab_type": "text"
      },
      "source": [
        "<a href=\"https://colab.research.google.com/github/rohitsharmaofficial/FinGPT/blob/main/Recommending_Movies_using_Affinity_Analysis.ipynb\" target=\"_parent\"><img src=\"https://colab.research.google.com/assets/colab-badge.svg\" alt=\"Open In Colab\"/></a>"
      ]
    },
    {
      "metadata": {
        "_cell_guid": "1df4d693-d768-e092-0769-c21ad1f64f52",
        "_uuid": "d800a5eae09557a2bd3f974b9514860a8049532e",
        "id": "hO-P3odKnXBT"
      },
      "cell_type": "markdown",
      "source": [
        "**Affinity analysis** , or market basket analysis, is used to determine when objects occur frequently together. The aim is to discover when objects occur simultaneously.\n",
        "In this example, we wish to work out when two movies are recommended by the same reviewers.\n",
        "The data for affinity analysis is often described in the form of a transaction. Intuitively, this comes from a transaction at a store - determining when objects are purchased together.\n",
        "\n",
        "**Data** - https://grouplens.org/datasets/movielens/\n",
        "\n",
        "**Algorithms** - Unsupervised because, unlike supervised learning, there is no correct answers and there is no teacher. Algorithms are left to their own devises to discover and present the interesting structure in the data.\n",
        "\n",
        " - Association rule learning - https://en.wikipedia.org/wiki/Association_rule_learning\n",
        "   \n",
        " - Apriori - https://en.wikipedia.org/wiki/Apriori_algorithm\n",
        "\n",
        "**Applications** Fraud detecetion, customer segmentation, software optimization, product recomandations,\n"
      ]
    },
    {
      "metadata": {
        "_cell_guid": "11a9a383-cf7f-b60a-bcf5-8bbce034d0b7",
        "_uuid": "5390b6050dc4b92738a7b71e819958996d9ab202",
        "trusted": true,
        "id": "hQ3PyfPwnXBV"
      },
      "cell_type": "code",
      "source": [
        "# Code from 'Learning-Data-Mining - Chapter 4'\n",
        "\n",
        "# Import\n",
        "import numpy as np # linear algebra\n",
        "import pandas as pd # data processing, CSV file I/O (e.g. pd.read_csv)\n",
        "\n",
        "# Input data files from MovieLens https://grouplens.org/datasets/movielens/\n",
        "from subprocess import check_output\n",
        "print(check_output([\"ls\", \"../input\"]).decode(\"utf8\"))"
      ],
      "execution_count": null,
      "outputs": []
    },
    {
      "metadata": {
        "_cell_guid": "4d4a4d7b-c7db-96f2-cf60-cd26b40a5745",
        "_uuid": "4eaa17ade84a3e21e6db0d50fb3573fdb6919c2c",
        "trusted": true,
        "id": "Zx4i0dOonXBW"
      },
      "cell_type": "code",
      "source": [
        "all_ratings = pd.read_csv('../input/rating.csv')\n",
        "all_ratings[\"timestamp\"] = pd.to_datetime(all_ratings['timestamp'])\n",
        "all_ratings[:5]"
      ],
      "execution_count": null,
      "outputs": []
    },
    {
      "metadata": {
        "_cell_guid": "9f4041a4-df12-3e03-7917-ccf58e589fa8",
        "_uuid": "7e85da56cec586672399717b50a82bdcbb1a427a",
        "trusted": true,
        "id": "sFw8Xqt_nXBX"
      },
      "cell_type": "code",
      "source": [
        "all_ratings.dtypes"
      ],
      "execution_count": null,
      "outputs": []
    },
    {
      "metadata": {
        "_cell_guid": "fcb189b0-c58e-1fea-dfc7-4ab392795bb5",
        "_uuid": "81754c8986872765cf5e1b5a0d435a2ad964f193",
        "trusted": true,
        "id": "5USi_EujnXBX"
      },
      "cell_type": "code",
      "source": [
        "all_ratings.count()"
      ],
      "execution_count": null,
      "outputs": []
    },
    {
      "metadata": {
        "_cell_guid": "95293fc3-a30f-64ca-f2a2-3cba2b0ba0dd",
        "_uuid": "c521c38c61e04cccf85d6864675f0beeb8d57d20",
        "trusted": true,
        "id": "GTihQimrnXBX"
      },
      "cell_type": "code",
      "source": [
        "# Not all reviews are favourable! Our goal is \"other recommended books\", so we only want favourable reviews\n",
        "all_ratings[\"favorable\"] = all_ratings[\"rating\"] > 3\n",
        "all_ratings[10:15]"
      ],
      "execution_count": null,
      "outputs": []
    },
    {
      "metadata": {
        "_cell_guid": "ab11cd05-6f97-18cf-cc5f-e7ac53bd3dba",
        "_uuid": "a5443dbe7934b4939383c20db6492da2b8c92818",
        "collapsed": true,
        "trusted": true,
        "id": "iQ2Duu60nXBY"
      },
      "cell_type": "code",
      "source": [
        "# Sample the dataset. You can try increasing the size of the sample, but the run time will be considerably longer\n",
        "ratings = all_ratings[all_ratings['userId'].isin(range(200))]"
      ],
      "execution_count": null,
      "outputs": []
    },
    {
      "metadata": {
        "_cell_guid": "e386d6d1-9d21-821a-c708-9ab4d27e54a2",
        "_uuid": "65e4ad3611340caf0446f827223fe031c2f89830",
        "trusted": true,
        "id": "Qo3m6LpvnXBY"
      },
      "cell_type": "code",
      "source": [
        "# We start by creating a dataset of each user's favourable reviews\n",
        "favorable_ratings = ratings[ratings[\"favorable\"]]\n",
        "favorable_ratings[:5]"
      ],
      "execution_count": null,
      "outputs": []
    },
    {
      "metadata": {
        "_cell_guid": "59d4ff67-04b3-ae24-71a5-1e7f2b23484b",
        "_uuid": "c4ad988fd22932c41f9dc52f1f4c039dbce00281",
        "trusted": true,
        "id": "ep7Xb5dOnXBZ"
      },
      "cell_type": "code",
      "source": [
        "# We are only interested in the reviewers who have more than one review\n",
        "favorable_reviews_by_users = dict((k, frozenset(v.values)) for k, v in favorable_ratings.groupby(\"userId\")[\"movieId\"])\n",
        "len(favorable_reviews_by_users)"
      ],
      "execution_count": null,
      "outputs": []
    },
    {
      "metadata": {
        "_cell_guid": "cc68f8b0-99a3-99f6-14fd-168cd426fd62",
        "_uuid": "f78acb19f966fbdfa3e5ba9ead27ffe8b882b1af",
        "trusted": true,
        "id": "zRCKN4IHnXBa"
      },
      "cell_type": "code",
      "source": [
        "# Find out how many movies have favourable ratings\n",
        "num_favorable_by_movie = ratings[[\"movieId\", \"favorable\"]].groupby(\"movieId\").sum()\n",
        "num_favorable_by_movie.sort_values(by=[\"favorable\"], ascending=False)[:5]"
      ],
      "execution_count": null,
      "outputs": []
    },
    {
      "metadata": {
        "_cell_guid": "3165234b-53fa-5eb5-eb49-80e96d8c6dd7",
        "_uuid": "cd789eb947bebd8f6b37cfd2af3ecba4d1a379f9",
        "collapsed": true,
        "trusted": true,
        "id": "GRp9hK5CnXBb"
      },
      "cell_type": "code",
      "source": [
        "# APRIORI Alogorithm\n",
        "# STEP 1 . Create frequent itemsets\n",
        "from collections import defaultdict\n",
        "\n",
        "def find_frequent_itemsets(favorable_reviews_by_users, k_1_itemsets, min_support):\n",
        "    counts = defaultdict(int)\n",
        "    for user, reviews in favorable_reviews_by_users.items():\n",
        "        for itemset in k_1_itemsets:\n",
        "            if itemset.issubset(reviews):\n",
        "                for other_reviewed_movie in reviews - itemset:\n",
        "                    current_superset = itemset | frozenset((other_reviewed_movie,))\n",
        "                    counts[current_superset] += 1\n",
        "    return dict([(itemset, frequency) for itemset, frequency in counts.items() if frequency >= min_support])"
      ],
      "execution_count": null,
      "outputs": []
    },
    {
      "metadata": {
        "trusted": true,
        "_uuid": "142c3345c34cc7c23d8f923e6adf9841954d450f",
        "id": "zbsCRf3mnXBb"
      },
      "cell_type": "code",
      "source": [
        "import sys\n",
        "frequent_itemsets = {}  # itemsets are sorted by length\n",
        "min_support = 50\n",
        "\n",
        "# k=1 candidates are the isbns with more than min_support favourable reviews\n",
        "frequent_itemsets[1] = dict((frozenset((movie_id,)), row[\"favorable\"])\n",
        "                                for movie_id, row in num_favorable_by_movie.iterrows()\n",
        "                                if row[\"favorable\"] > min_support)\n",
        "\n",
        "print(\"There are {} movies with more than {} favorable reviews\".format(len(frequent_itemsets[1]), min_support))\n",
        "sys.stdout.flush()\n",
        "for k in range(2, 20):\n",
        "    # Generate candidates of length k, using the frequent itemsets of length k-1\n",
        "    # Only store the frequent itemsets\n",
        "    cur_frequent_itemsets = find_frequent_itemsets(favorable_reviews_by_users, frequent_itemsets[k-1],\n",
        "                                                   min_support)\n",
        "    if len(cur_frequent_itemsets) == 0:\n",
        "        print(\"Did not find any frequent itemsets of length {}\".format(k))\n",
        "        sys.stdout.flush()\n",
        "        break\n",
        "    else:\n",
        "        print(\"I found {} frequent itemsets of length {}\".format(len(cur_frequent_itemsets), k))\n",
        "        #print(cur_frequent_itemsets)\n",
        "        sys.stdout.flush()\n",
        "        frequent_itemsets[k] = cur_frequent_itemsets\n",
        "# We aren't interested in the itemsets of length 1, so remove those\n",
        "del frequent_itemsets[1]"
      ],
      "execution_count": null,
      "outputs": []
    },
    {
      "metadata": {
        "trusted": true,
        "_uuid": "fff897659ba7d7e577249428602c5834018fbd30",
        "id": "yLebyjAJnXBc"
      },
      "cell_type": "code",
      "source": [
        "print(\"Found a total of {0} frequent itemsets\".format(sum(len(itemsets) for itemsets in frequent_itemsets.values())))"
      ],
      "execution_count": null,
      "outputs": []
    },
    {
      "metadata": {
        "trusted": true,
        "_uuid": "93b8455096e857b11ba99883c1dfa93b35d326b6",
        "id": "D2uY3jzpnXBc"
      },
      "cell_type": "code",
      "source": [
        "# Now we create the association rules. First, they are candidates until the confidence has been tested\n",
        "candidate_rules = []\n",
        "for itemset_length, itemset_counts in frequent_itemsets.items():\n",
        "    for itemset in itemset_counts.keys():\n",
        "        for conclusion in itemset:\n",
        "            premise = itemset - set((conclusion,))\n",
        "            candidate_rules.append((premise, conclusion))\n",
        "print(\"There are {} candidate rules\".format(len(candidate_rules)))"
      ],
      "execution_count": null,
      "outputs": []
    },
    {
      "metadata": {
        "trusted": true,
        "_uuid": "7859c2ff092d1be1d0685b1c737100a840931c36",
        "id": "KTY4ZZNCnXBd"
      },
      "cell_type": "code",
      "source": [
        "print(candidate_rules[:5])"
      ],
      "execution_count": null,
      "outputs": []
    },
    {
      "metadata": {
        "collapsed": true,
        "trusted": true,
        "_uuid": "c4a07e492e1621acda1b010c74f1e599ed0f5e81",
        "id": "YUyJWzM0nXBd"
      },
      "cell_type": "code",
      "source": [
        "# Now, we compute the confidence of each of these rules. This is very similar to what we did in chapter 1\n",
        "correct_counts = defaultdict(int)\n",
        "incorrect_counts = defaultdict(int)\n",
        "for user, reviews in favorable_reviews_by_users.items():\n",
        "    for candidate_rule in candidate_rules:\n",
        "        premise, conclusion = candidate_rule\n",
        "        if premise.issubset(reviews):\n",
        "            if conclusion in reviews:\n",
        "                correct_counts[candidate_rule] += 1\n",
        "            else:\n",
        "                incorrect_counts[candidate_rule] += 1\n",
        "rule_confidence = {candidate_rule: correct_counts[candidate_rule] / float(correct_counts[candidate_rule] + incorrect_counts[candidate_rule])\n",
        "              for candidate_rule in candidate_rules}"
      ],
      "execution_count": null,
      "outputs": []
    },
    {
      "metadata": {
        "collapsed": true,
        "trusted": true,
        "_uuid": "ea6ff5ee3620ad2adf74e8f0b8e145863ce7ce86",
        "id": "zxNoV09LnXBd"
      },
      "cell_type": "code",
      "source": [
        "# Choose only rules above a minimum confidence level\n",
        "min_confidence = 0.9"
      ],
      "execution_count": null,
      "outputs": []
    },
    {
      "metadata": {
        "trusted": true,
        "_uuid": "3177ee685c8c3829cee5dd049a1f317246f82018",
        "id": "M97bcslGnXBe"
      },
      "cell_type": "code",
      "source": [
        "# Filter out the rules with poor confidence\n",
        "rule_confidence = {rule: confidence for rule, confidence in rule_confidence.items() if confidence > min_confidence}\n",
        "print(len(rule_confidence))"
      ],
      "execution_count": null,
      "outputs": []
    },
    {
      "metadata": {
        "collapsed": true,
        "trusted": true,
        "_uuid": "92236717b8fdb67aa66b5fc6ea89501e4a7b0648",
        "id": "DogsLSjSnXBe"
      },
      "cell_type": "code",
      "source": [
        "from operator import itemgetter\n",
        "sorted_confidence = sorted(rule_confidence.items(), key=itemgetter(1), reverse=True)"
      ],
      "execution_count": null,
      "outputs": []
    },
    {
      "metadata": {
        "trusted": true,
        "_uuid": "e76d0f48e18cc59d6422dc24cdb2daf65368b946",
        "id": "gL22q7V1nXBe"
      },
      "cell_type": "code",
      "source": [
        "for index in range(5):\n",
        "    print(\"Rule #{0}\".format(index + 1))\n",
        "    (premise, conclusion) = sorted_confidence[index][0]\n",
        "    print(\"Rule: If a person recommends {0} they will also recommend {1}\".format(premise, conclusion))\n",
        "    print(\" - Confidence: {0:.3f}\".format(rule_confidence[(premise, conclusion)]))\n",
        "    print(\"\")"
      ],
      "execution_count": null,
      "outputs": []
    },
    {
      "metadata": {
        "trusted": true,
        "_uuid": "2dace261602b14aaf88031bd9e2e949461c8fa42",
        "id": "915uEzjlnXBe"
      },
      "cell_type": "code",
      "source": [
        "movie_name_data = pd.read_csv('../input/movie.csv')\n",
        "movie_name_data.head(5)"
      ],
      "execution_count": null,
      "outputs": []
    },
    {
      "metadata": {
        "collapsed": true,
        "trusted": true,
        "_uuid": "830379d42545c8f76de2af8356f3752581144ed5",
        "id": "dzGvLTy5nXBf"
      },
      "cell_type": "code",
      "source": [
        "def get_movie_name(movie_id):\n",
        "    title_object = movie_name_data[movie_name_data[\"movieId\"] == movie_id][\"title\"]\n",
        "    title = title_object.values[0]\n",
        "    return title"
      ],
      "execution_count": null,
      "outputs": []
    },
    {
      "metadata": {
        "trusted": true,
        "_uuid": "d46e4a38afa77e01bfac16aec5521bc117aa8a6d",
        "id": "NjytlrMinXBf"
      },
      "cell_type": "code",
      "source": [
        "get_movie_name(4)"
      ],
      "execution_count": null,
      "outputs": []
    },
    {
      "metadata": {
        "trusted": true,
        "_uuid": "0b37a63983125dabbd3dff54bb554b4d06cbeb04",
        "id": "54hVP0-PnXBf"
      },
      "cell_type": "code",
      "source": [
        "for index in range(5):\n",
        "    print(\"Rule #{0}\".format(index + 1))\n",
        "    (premise, conclusion) = sorted_confidence[index][0]\n",
        "    premise_names = \", \".join(get_movie_name(idx) for idx in premise)\n",
        "    conclusion_name = get_movie_name(conclusion)\n",
        "    print(\"Rule: If a person recommends {0} they will also recommend {1}\".format(premise_names, conclusion_name))\n",
        "    print(\" - Confidence: {0:.3f}\".format(rule_confidence[(premise, conclusion)]))\n",
        "    print(\"\")"
      ],
      "execution_count": null,
      "outputs": []
    },
    {
      "metadata": {
        "trusted": true,
        "_uuid": "6e46dff1a3f7baebb81a17cae88f559e59712ae0",
        "id": "Nb_lzpuXnXBf"
      },
      "cell_type": "code",
      "source": [
        "all_ratings.head(2)"
      ],
      "execution_count": null,
      "outputs": []
    },
    {
      "metadata": {
        "trusted": true,
        "_uuid": "6ac9c7847f2fba614f951a52e99275153f935e87",
        "id": "riLAlMcNnXBg"
      },
      "cell_type": "code",
      "source": [
        "# Evaluation using test data\n",
        "test_dataset = all_ratings[~all_ratings['userId'].isin(range(200))]\n",
        "test_favorable = test_dataset[test_dataset[\"favorable\"]]\n",
        "#test_not_favourable = test_dataset[~test_dataset[\"favourable\"]]\n",
        "test_favorable_by_users = dict((k, frozenset(v.values)) for k, v in test_favorable.groupby(\"userId\")[\"movieId\"])\n",
        "#test_not_favourable_by_users = dict((k, frozenset(v.values)) for k, v in test_not_favourable.groupby(\"UserID\")[\"MovieID\"])\n",
        "#test_users = test_dataset[\"UserID\"].unique()"
      ],
      "execution_count": null,
      "outputs": []
    },
    {
      "metadata": {
        "trusted": true,
        "_uuid": "3c14cca2fc7b7971078ef71cd1987fd08f824dd0",
        "id": "n-6JRbqLnXBg"
      },
      "cell_type": "code",
      "source": [
        "test_dataset[:5]"
      ],
      "execution_count": null,
      "outputs": []
    },
    {
      "metadata": {
        "trusted": true,
        "collapsed": true,
        "_uuid": "60007d512ba63011c44b63bbb1fa187f34d7199a",
        "id": "VevI9q8gnXBg"
      },
      "cell_type": "code",
      "source": [
        "correct_counts = defaultdict(int)\n",
        "incorrect_counts = defaultdict(int)\n",
        "for user, reviews in test_favorable_by_users.items():\n",
        "    for candidate_rule in candidate_rules:\n",
        "        premise, conclusion = candidate_rule\n",
        "        if premise.issubset(reviews):\n",
        "            if conclusion in reviews:\n",
        "                correct_counts[candidate_rule] += 1\n",
        "            else:\n",
        "                incorrect_counts[candidate_rule] += 1"
      ],
      "execution_count": null,
      "outputs": []
    },
    {
      "metadata": {
        "trusted": true,
        "_uuid": "c83db42f3f00b99ee4e2cb7ddde580ab1f49282b",
        "id": "iP1UG4DDnXBg"
      },
      "cell_type": "code",
      "source": [
        "test_confidence = {candidate_rule: correct_counts[candidate_rule] / float(correct_counts[candidate_rule] + incorrect_counts[candidate_rule])\n",
        "                   for candidate_rule in rule_confidence}\n",
        "print(len(test_confidence))"
      ],
      "execution_count": null,
      "outputs": []
    },
    {
      "metadata": {
        "trusted": true,
        "_uuid": "dbdc841d48d7b083cfc9a24bb9db59d58923aaa9",
        "id": "Clu25HFynXBh"
      },
      "cell_type": "code",
      "source": [
        "sorted_test_confidence = sorted(test_confidence.items(), key=itemgetter(1), reverse=True)\n",
        "print(sorted_test_confidence[:5])"
      ],
      "execution_count": null,
      "outputs": []
    },
    {
      "metadata": {
        "trusted": true,
        "_uuid": "8f535440fb98bf27f239bc6032c7c5afb0e0e8fd",
        "id": "ZrHURs3tnXBh"
      },
      "cell_type": "code",
      "source": [
        "for index in range(10):\n",
        "    print(\"Rule #{0}\".format(index + 1))\n",
        "    (premise, conclusion) = sorted_confidence[index][0]\n",
        "    premise_names = \", \".join(get_movie_name(idx) for idx in premise)\n",
        "    conclusion_name = get_movie_name(conclusion)\n",
        "    print(\"Rule: If a person recommends {0} they will also recommend {1}\".format(premise_names, conclusion_name))\n",
        "    print(\" - Train Confidence: {0:.3f}\".format(rule_confidence.get((premise, conclusion), -1)))\n",
        "    print(\" - Test Confidence: {0:.3f}\".format(test_confidence.get((premise, conclusion), -1)))\n",
        "    print(\"\")"
      ],
      "execution_count": null,
      "outputs": []
    }
  ],
  "metadata": {
    "_change_revision": 0,
    "_is_fork": false,
    "kernelspec": {
      "display_name": "Python 3",
      "language": "python",
      "name": "python3"
    },
    "language_info": {
      "name": "python",
      "version": "3.6.4",
      "mimetype": "text/x-python",
      "codemirror_mode": {
        "name": "ipython",
        "version": 3
      },
      "pygments_lexer": "ipython3",
      "nbconvert_exporter": "python",
      "file_extension": ".py"
    },
    "colab": {
      "name": "Recommending Movies using Affinity Analysis",
      "provenance": [],
      "include_colab_link": true
    }
  },
  "nbformat": 4,
  "nbformat_minor": 0
}